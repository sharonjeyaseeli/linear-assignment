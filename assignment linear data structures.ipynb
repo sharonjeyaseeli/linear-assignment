{
 "cells": [
  {
   "cell_type": "code",
   "execution_count": 8,
   "id": "03e862ce",
   "metadata": {},
   "outputs": [
    {
     "name": "stdout",
     "output_type": "stream",
     "text": [
      "Reversed Array is -->  [20, 18, 14, 10, 8, 4, 2]\n"
     ]
    }
   ],
   "source": [
    "def Reversing_Array(Array):\n",
    "    print(Array[::-1])\n",
    "\t\n",
    "\n",
    "Array = [2,4,8,10,14,18,20]\n",
    "print(\"Reversed Array is --> \",end=\" \")\n",
    "Reversing_Array(Array)"
   ]
  },
  {
   "cell_type": "code",
   "execution_count": 7,
   "id": "0902961e",
   "metadata": {},
   "outputs": [
    {
     "name": "stdout",
     "output_type": "stream",
     "text": [
      "Strings are not rotations of each other\n"
     ]
    }
   ],
   "source": [
    "def areRotations(string1, string2):\n",
    "    str1 = len(string1)\n",
    "    str2 = len(string2)\n",
    "    temp = ''\n",
    "    if str1 != str2:\n",
    "        return 0\n",
    "\n",
    "    temp = string1 + string1\n",
    "\n",
    "\n",
    "    if (temp.count(string2)> 0):\n",
    "        return 1\n",
    "    else:\n",
    "        return 0\n",
    "\n",
    "\n",
    "string1 = \"norahs\"\n",
    "string2 = \"sharon\"\n",
    "\n",
    "if areRotations(string1, string2):\n",
    "    print (\"Strings are rotations of each other\")\n",
    "else:\n",
    "    print (\"Strings are not rotations of each other\") \n"
   ]
  },
  {
   "cell_type": "code",
   "execution_count": 6,
   "id": "17264377",
   "metadata": {},
   "outputs": [
    {
     "name": "stdout",
     "output_type": "stream",
     "text": [
      "First non-repeating character is s\n"
     ]
    }
   ],
   "source": [
    "NO_OF_CHARS = 256\n",
    " \n",
    "def getCharCountArray(string):\n",
    "    count = [0] * NO_OF_CHARS\n",
    "    for i in string:\n",
    "        count[ord(i)]+= 1\n",
    "    return count\n",
    "\n",
    "def firstNonRepeating(string):\n",
    "    count = getCharCountArray(string)\n",
    "    index = -1\n",
    "    k = 0\n",
    " \n",
    "    for i in string:\n",
    "        if count[ord(i)] == 1:\n",
    "            index = k\n",
    "            break\n",
    "        k += 1\n",
    " \n",
    "    return index\n",
    " \n",
    "string = \"sharoni\"\n",
    "index = firstNonRepeating(string)\n",
    "if index == 1:\n",
    "    print (\"Either all characters are repeating or string is empty\")\n",
    "else:\n",
    "    print (\"First non-repeating character is\" , string[index])\n"
   ]
  },
  {
   "cell_type": "code",
   "execution_count": 9,
   "id": "f57fb14c",
   "metadata": {},
   "outputs": [
    {
     "name": "stdout",
     "output_type": "stream",
     "text": [
      "Move 1 disk from tower_1 A  to tower_3 C\n",
      "Move 2 disk from tower_1 A  to tower_3 B\n",
      "Move 1 disk from tower_1 C  to tower_3 B\n",
      "Move 3 disk from tower_1 A  to tower_3 C\n",
      "Move 1 disk from tower_1 B  to tower_3 A\n",
      "Move 2 disk from tower_1 B  to tower_3 C\n",
      "Move 1 disk from tower_1 A  to tower_3 C\n"
     ]
    }
   ],
   "source": [
    "def TowerOfHanoi(n , tower_1, tower_3, tower_2):\n",
    "    if n == 0:\n",
    "        return\n",
    "    TowerOfHanoi(n-1, tower_1, tower_2, tower_3)\n",
    "    print(\"Move\",n,\"disk from tower_1\",tower_1,\" to tower_3\",tower_3)\n",
    "    TowerOfHanoi(n-1, tower_2, tower_3, tower_1)\n",
    "\n",
    "n = 3\n",
    "TowerOfHanoi(n, 'A', 'C', 'B')\n"
   ]
  },
  {
   "cell_type": "code",
   "execution_count": 10,
   "id": "69c3d4d7",
   "metadata": {},
   "outputs": [
    {
     "name": "stdout",
     "output_type": "stream",
     "text": [
      "((A-(B/C))*((A/K)-L))\n"
     ]
    }
   ],
   "source": [
    "def prefixToInfix(prefix):\n",
    "    stack = []\n",
    "     \n",
    "    i = len(prefix) - 1\n",
    "    while i >= 0:\n",
    "        if not isOperator(prefix[i]):\n",
    "             \n",
    "           \n",
    "            stack.append(prefix[i])\n",
    "            i -= 1\n",
    "        else:\n",
    "           \n",
    "\n",
    "            str = \"(\" + stack.pop() + prefix[i] + stack.pop() + \")\"\n",
    "            stack.append(str)\n",
    "            i -= 1\n",
    "     \n",
    "    return stack.pop()\n",
    " \n",
    "def isOperator(c):\n",
    "    if c == \"*\" or c == \"+\" or c == \"-\" or c == \"/\" or c == \"^\" or c == \"(\" or c == \")\":\n",
    "        return True\n",
    "    else:\n",
    "        return False\n",
    "\n",
    "if __name__==\"__main__\":\n",
    "    str = \"*-A/BC-/AKL\"\n",
    "    print(prefixToInfix(str))\n"
   ]
  },
  {
   "cell_type": "code",
   "execution_count": null,
   "id": "5ccae159",
   "metadata": {},
   "outputs": [],
   "source": []
  }
 ],
 "metadata": {
  "kernelspec": {
   "display_name": "Python 3 (ipykernel)",
   "language": "python",
   "name": "python3"
  },
  "language_info": {
   "codemirror_mode": {
    "name": "ipython",
    "version": 3
   },
   "file_extension": ".py",
   "mimetype": "text/x-python",
   "name": "python",
   "nbconvert_exporter": "python",
   "pygments_lexer": "ipython3",
   "version": "3.10.2"
  }
 },
 "nbformat": 4,
 "nbformat_minor": 5
}
